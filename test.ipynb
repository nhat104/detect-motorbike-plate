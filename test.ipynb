{
 "cells": [
  {
   "cell_type": "code",
   "execution_count": 1,
   "metadata": {},
   "outputs": [],
   "source": [
    "#Tạo file train.txt, valid.txt theo đoạn code\n",
    "import os\n",
    "import numpy as np\n",
    "\n",
    "#\"obj\" là tên thư mục chứa cả ảnh và file annotation.\n",
    "lst_files = os.listdir(\"data/dataset/\")\n",
    "lst_images = []\n",
    "\n",
    "for file in lst_files:\n",
    "  if \".txt\" not in file:\n",
    "    lst_images.append(file)\n",
    "    \n",
    "#Tách 200 ảnh ra làm tập validation  \n",
    "random_idx = np.random.randint(0, len(lst_images), 200)\n",
    "\n",
    "#Tạo file train.txt được đặt trong thư mục darknet/data\n",
    "with open(\"data/train.txt\",\"w\") as f:\n",
    "  for idx in range(len(lst_images)):\n",
    "    if idx not in random_idx:\n",
    "      f.write(\"data/dataset/\"+lst_images[idx]+\"\\n\")\n",
    "      \n",
    "#Tạo file valid.txt được đặt trong thư mục darknet/data\n",
    "with open(\"data/valid.txt\",\"w\") as f:\n",
    "    for idx in random_idx:\n",
    "      f.write(\"data/dataset/\"+lst_images[idx]+\"\\n\")"
   ]
  }
 ],
 "metadata": {
  "kernelspec": {
   "display_name": "env",
   "language": "python",
   "name": "python3"
  },
  "language_info": {
   "codemirror_mode": {
    "name": "ipython",
    "version": 3
   },
   "file_extension": ".py",
   "mimetype": "text/x-python",
   "name": "python",
   "nbconvert_exporter": "python",
   "pygments_lexer": "ipython3",
   "version": "3.10.13"
  }
 },
 "nbformat": 4,
 "nbformat_minor": 2
}
